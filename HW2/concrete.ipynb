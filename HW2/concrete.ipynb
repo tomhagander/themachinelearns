{
 "cells": [
  {
   "cell_type": "markdown",
   "metadata": {},
   "source": [
    "# Concrete strength prediction\n",
    "First the data is imported and split into features and labels"
   ]
  },
  {
   "cell_type": "code",
   "execution_count": 80,
   "metadata": {},
   "outputs": [],
   "source": [
    "import pandas as pd\n",
    "import numpy as np\n",
    "import matplotlib.pyplot as plt\n",
    "from sklearn.metrics import mean_squared_error\n",
    "from sklearn.linear_model import Ridge\n",
    "from sklearn.model_selection import KFold\n",
    "\n",
    "data = pd.read_csv('Concrete_Data.csv')\n",
    "# features\n",
    "X = data.loc[:, 'Cement (%)':'Age (days)']\n",
    "# label\n",
    "Y = data.loc[:, ['Compressive strength (MPa)']]"
   ]
  },
  {
   "cell_type": "markdown",
   "metadata": {},
   "source": [
    "### Function that splits data into 10-fold cross-validation and trains for each 'fold'\n",
    "Training- and testing-errors are saved for each 'fold'. There is also a parameter alpha which is the weight for the l2 norm of the feature-weights in the cost function. The function returns the means and standard deviations of the errors over the 10 folds."
   ]
  },
  {
   "cell_type": "code",
   "execution_count": 81,
   "metadata": {},
   "outputs": [],
   "source": [
    "def kfold_and_train(alpha):\n",
    "    training_errors = []\n",
    "    testing_errors = []\n",
    "    kf = KFold(n_splits=10, shuffle=True, random_state=1)\n",
    "    for train_index, test_index in kf.split(X):\n",
    "        linreg = Ridge(alpha=alpha)\n",
    "        #print(X.iloc[train_index])\n",
    "        #print(Y.iloc[train_index])\n",
    "        linreg.fit(X.iloc[train_index], Y.iloc[train_index])\n",
    "        pred_train = linreg.predict(X.iloc[train_index])\n",
    "        pred_test = linreg.predict(X.iloc[test_index])\n",
    "        training_errors.append(mean_squared_error(Y.iloc[train_index], pred_train, squared=False))\n",
    "        testing_errors.append(mean_squared_error(Y.iloc[test_index], pred_test, squared=False))\n",
    "\n",
    "    # finding means and stddevs\n",
    "    train_mean = sum(training_errors)/len(training_errors)\n",
    "    test_mean = sum(testing_errors)/len(testing_errors)\n",
    "    train_stddev = (sum([((x - train_mean) ** 2) for x in training_errors]) / len(training_errors))**0.5\n",
    "    test_stddev = (sum([((x - test_mean) ** 2) for x in testing_errors]) / len(testing_errors))**0.5\n",
    "    return train_mean, test_mean, train_stddev, test_stddev"
   ]
  },
  {
   "cell_type": "markdown",
   "metadata": {},
   "source": [
    "### Testing for the optimal value of alpha\n",
    "The function defined above is called for many values of alpha and the errors and standard deviations are plotted in one cell below."
   ]
  },
  {
   "cell_type": "code",
   "execution_count": 82,
   "metadata": {},
   "outputs": [],
   "source": [
    "alphas = [0.00001, 0.0001, 0.001, 0.01, 0.1, 0.3, 1, 3, 10, 100, 1000]\n",
    "training_errors = []\n",
    "testing_errors = []\n",
    "training_devs = []\n",
    "testing_devs = []\n",
    "for alpha in alphas:\n",
    "    training_error, testing_error, training_stddev, testing_stddev = kfold_and_train(alpha)\n",
    "    training_errors.append(training_error)\n",
    "    testing_errors.append(testing_error)\n",
    "    training_devs.append(training_stddev)\n",
    "    testing_devs.append(testing_stddev)\n",
    "\n"
   ]
  },
  {
   "cell_type": "code",
   "execution_count": 83,
   "metadata": {},
   "outputs": [
    {
     "data": {
      "image/png": "[encoded data removed]",
      "text/plain": [
       "<Figure size 432x288 with 1 Axes>"
      ]
     },
     "metadata": {
      "needs_background": "light"
     },
     "output_type": "display_data"
    }
   ],
   "source": [
    "plt.errorbar(alphas, training_errors, training_devs)\n",
    "plt.errorbar(alphas, testing_errors, testing_devs)\n",
    "plt.xscale('log')\n",
    "# orange is testing error and blue is training error"
   ]
  },
  {
   "cell_type": "markdown",
   "metadata": {},
   "source": [
    "### Using alpha = 1 to train the model\n",
    "Looking at the data above, I chose to set alpha to 1 for the final model training. The standard deviations are large, and setting alpha to a larger value such as 3 or 5 would still put the expected error within the standard deviation of the testing error for lower alphas, but the plot begins to curve upward at alpha=1. I therefore judge that there is more performance to be gained from setting alpha to 1 than there are benefits of minimizing the feature-weights further with alpha being set to for example 3.\n",
    "\n",
    "With alpha being set to 1, there is no longer any need for training and testing sets (since the complexity of the model is set), and we can instead train the model on all the data."
   ]
  },
  {
   "cell_type": "code",
   "execution_count": 84,
   "metadata": {},
   "outputs": [],
   "source": [
    "def train_only():\n",
    "    linreg = Ridge(alpha=1)\n",
    "    linreg.fit(X, Y)\n",
    "    pred_train = linreg.predict(X)\n",
    "    return mean_squared_error(Y, pred_train, squared=False)"
   ]
  },
  {
   "cell_type": "code",
   "execution_count": 86,
   "metadata": {},
   "outputs": [
    {
     "name": "stdout",
     "output_type": "stream",
     "text": [
      "Final training error: 10.546733194719618\n",
      "(for alpha=1)\n"
     ]
    }
   ],
   "source": [
    "# with alpha = 1:\n",
    "final_error = train_only()\n",
    "print(\"Final training error:\", final_error)\n",
    "print(\"(for alpha=1)\")"
   ]
  }
 ],
 "metadata": {
  "interpreter": {
   "hash": "b0fa6594d8f4cbf19f97940f81e996739fb7646882a419484c72d19e05852a7e"
  },
  "kernelspec": {
   "display_name": "Python 3.9.13 64-bit",
   "language": "python",
   "name": "python3"
  },
  "language_info": {
   "codemirror_mode": {
    "name": "ipython",
    "version": 3
   },
   "file_extension": ".py",
   "mimetype": "text/x-python",
   "name": "python",
   "nbconvert_exporter": "python",
   "pygments_lexer": "ipython3",
   "version": "3.8.8"
  },
  "orig_nbformat": 4
 },
 "nbformat": 4,
 "nbformat_minor": 2
}
