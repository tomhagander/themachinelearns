{
 "cells": [
  {
   "cell_type": "markdown",
   "metadata": {},
   "source": [
    "# Logistic Regression to classify glass types\n",
    "First we import the necessary packages and the data"
   ]
  },
  {
   "cell_type": "code",
   "execution_count": 72,
   "metadata": {},
   "outputs": [
    {
     "name": "stdout",
     "output_type": "stream",
     "text": [
      "   SiO2      B2O3      P2O5     Al2O3       Na2O        CaO  Family of glass\n",
      "0   0.0  0.516284  3.654946  3.240924  37.375325  55.212521                5\n",
      "1   0.0  0.138838  0.000000  2.563676  16.432675  80.864810                5\n",
      "2   0.0  0.813877  3.288834  4.412898  43.806742  47.677650                5\n",
      "3   0.0  2.010510  1.302941  1.023996  40.145047  55.517506                5\n",
      "4   0.0  1.321328  3.072029  0.491069  26.582426  68.533148                5\n"
     ]
    }
   ],
   "source": [
    "#1\tWindow glass\n",
    "#2\tKitchenware glass\n",
    "#3\tSmartphone cover glass\n",
    "#4\tOLED display substrate glass\n",
    "#5\tBioactive glass\n",
    "import pandas as pd\n",
    "import numpy as np\n",
    "import matplotlib.pyplot as plt\n",
    "from sklearn.linear_model import LogisticRegression\n",
    "\n",
    "data = pd.read_csv('Glasses.csv')\n",
    "# deleting last 9 columns that are artifacts of the csv-file\n",
    "data = data.loc[:, \"SiO2\":\"Family of glass\"]\n",
    "\n",
    "print(data.head())"
   ]
  },
  {
   "cell_type": "markdown",
   "metadata": {},
   "source": [
    "### Splitting the data\n",
    "We split the data into training and testing data sets. Here we could use for example k-fold cross validation, but I chose to focus my efforts on the clustering part of this homework. Also, even though not doing a k-fold cross validation will lead to less robust results, a single data split is sufficient"
   ]
  },
  {
   "cell_type": "code",
   "execution_count": 73,
   "metadata": {},
   "outputs": [],
   "source": [
    "def splitData(data, training_frac):\n",
    "    train = data.sample(frac=training_frac, random_state=1).sort_index()\n",
    "    test = data.drop(train.index)\n",
    "    return train, test"
   ]
  },
  {
   "cell_type": "markdown",
   "metadata": {},
   "source": [
    "### Training and evaluating the logistic regressor\n",
    "Here I only do a simple regression, and to build a more advanced model I could engineer new features or use a neural network, but again, I chose to focus my time on the second task."
   ]
  },
  {
   "cell_type": "code",
   "execution_count": 74,
   "metadata": {},
   "outputs": [
    {
     "name": "stdout",
     "output_type": "stream",
     "text": [
      "The accuracy of the model is 0.76\n",
      "The predictions for the unseen glasses are as follows: [1 4 3]\n"
     ]
    },
    {
     "name": "stderr",
     "output_type": "stream",
     "text": [
      "/Users/tomhagander/opt/anaconda3/lib/python3.8/site-packages/sklearn/linear_model/_logistic.py:763: ConvergenceWarning: lbfgs failed to converge (status=1):\n",
      "STOP: TOTAL NO. of ITERATIONS REACHED LIMIT.\n",
      "\n",
      "Increase the number of iterations (max_iter) or scale the data as shown in:\n",
      "    https://scikit-learn.org/stable/modules/preprocessing.html\n",
      "Please also refer to the documentation for alternative solver options:\n",
      "    https://scikit-learn.org/stable/modules/linear_model.html#logistic-regression\n",
      "  n_iter_i = _check_optimize_result(\n"
     ]
    }
   ],
   "source": [
    "train, test = splitData(data, 0.8)\n",
    "train_X = train.loc[:, 'SiO2':'CaO'].to_numpy()\n",
    "train_Y = train.loc[:, ['Family of glass']].to_numpy()\n",
    "test_X = test.loc[:, 'SiO2':'CaO'].to_numpy()\n",
    "test_Y = test.loc[:, ['Family of glass']].to_numpy()\n",
    "train_Y = train_Y.reshape((train_Y.shape[0], ))\n",
    "test_Y = test_Y.reshape((test_Y.shape[0], ))\n",
    "\n",
    "clf = LogisticRegression(penalty='none')\n",
    "\n",
    "clf.fit(train_X, train_Y)\n",
    "\n",
    "pred = clf.predict(test_X)\n",
    "print('The accuracy of the model is {}'.format(clf.score(test_X, test_Y)))\n",
    "\n",
    "predict_unseen = clf.predict([[70, 0, 0, 0, 20, 10], [70, 0, 0, 15, 0, 15], [70, 0, 0, 15, 15, 0]])\n",
    "print('The predictions for the unseen glasses are as follows: {}'.format(predict_unseen))"
   ]
  },
  {
   "cell_type": "markdown",
   "metadata": {},
   "source": [
    "As can be seen, the accuracy of the model is 76%. Also, it is successful in classifying the three unseen types of glass. The accuracy could perhaps be made higher with a more complex model, one with engineered features or a neural network."
   ]
  }
 ],
 "metadata": {
  "interpreter": {
   "hash": "3708305fc94c69afca28f415217bd16e077c30653a6946d0cd4c9b77f246dd28"
  },
  "kernelspec": {
   "display_name": "Python 3.8.8 ('base')",
   "language": "python",
   "name": "python3"
  },
  "language_info": {
   "codemirror_mode": {
    "name": "ipython",
    "version": 3
   },
   "file_extension": ".py",
   "mimetype": "text/x-python",
   "name": "python",
   "nbconvert_exporter": "python",
   "pygments_lexer": "ipython3",
   "version": "3.8.8"
  },
  "orig_nbformat": 4
 },
 "nbformat": 4,
 "nbformat_minor": 2
}
