{
 "cells": [
  {
   "cell_type": "markdown",
   "metadata": {},
   "source": [
    "# Linear Multivariate Regression for Heating Load Prediction\n",
    "First we import packages and the data."
   ]
  },
  {
   "cell_type": "code",
   "execution_count": 75,
   "metadata": {},
   "outputs": [],
   "source": [
    "import pandas as pd\n",
    "import numpy as np\n",
    "import matplotlib.pyplot as plt\n",
    "from sklearn.metrics import mean_squared_error\n",
    "from sklearn.linear_model import Lasso, LinearRegression\n",
    "\n",
    "data = pd.read_csv('heating_load.csv')\n",
    "# features\n",
    "X = data.loc[:, '# surface area (m^2)':'roof area  (m^2)']\n",
    "# label\n",
    "Y = data.loc[:, ['heating load (BTU)']]"
   ]
  },
  {
   "cell_type": "code",
   "execution_count": 76,
   "metadata": {},
   "outputs": [
    {
     "name": "stdout",
     "output_type": "stream",
     "text": [
      "   # surface area (m^2)  wall area  (m^2)  roof area  (m^2)  \\\n",
      "0            515.087941        278.913968        113.206049   \n",
      "1            484.327936        298.926749        117.495410   \n",
      "2            524.353498        306.075683        107.707566   \n",
      "3            538.651366        289.762611        110.584921   \n",
      "4            555.025222        319.058201        120.406961   \n",
      "\n",
      "   heating load (BTU)  \n",
      "0           36.570041  \n",
      "1           35.868318  \n",
      "2           32.792317  \n",
      "3           36.794874  \n",
      "4           36.949919  \n"
     ]
    }
   ],
   "source": [
    "print(data.head())"
   ]
  },
  {
   "cell_type": "markdown",
   "metadata": {},
   "source": [
    "### Linear Regression without feature-engineering\n",
    "The data is split into a testing set and a training set. The linear model is trained on the training set and validated on the testing set"
   ]
  },
  {
   "cell_type": "code",
   "execution_count": 77,
   "metadata": {},
   "outputs": [],
   "source": [
    "def splitData(data, training_frac):\n",
    "    train = data.sample(frac=training_frac, random_state=1).sort_index()\n",
    "    test = data.drop(train.index)\n",
    "    return train, test"
   ]
  },
  {
   "cell_type": "code",
   "execution_count": 78,
   "metadata": {},
   "outputs": [
    {
     "name": "stdout",
     "output_type": "stream",
     "text": [
      "[[-0.00238455  0.10729716 -0.19596588]]\n",
      "3.559795406501676\n",
      "3.792774310542606\n"
     ]
    }
   ],
   "source": [
    "train, test = splitData(data, 0.8)\n",
    "train_X = train.loc[:, '# surface area (m^2)':'roof area  (m^2)']\n",
    "train_Y = train.loc[:, ['heating load (BTU)']]\n",
    "test_X = test.loc[:, '# surface area (m^2)':'roof area  (m^2)']\n",
    "test_Y = test.loc[:, ['heating load (BTU)']]\n",
    "\n",
    "linreg = LinearRegression()\n",
    "\n",
    "linreg.fit(train_X, train_Y)\n",
    "print(linreg.coef_)\n",
    "pred_train = linreg.predict(train_X)\n",
    "pred_test = linreg.predict(test_X)\n",
    "\n",
    "print(mean_squared_error(train_Y, pred_train, squared=False))\n",
    "print(mean_squared_error(test_Y, pred_test, squared=False))"
   ]
  },
  {
   "cell_type": "markdown",
   "metadata": {},
   "source": [
    "The testing RMSE for normal linear regression is 3.7928"
   ]
  },
  {
   "cell_type": "markdown",
   "metadata": {},
   "source": [
    "### Feature engineering and LASSO\n",
    "Now we create some new features by combining the existing ones. Features are \"chosen\" by using a LASSO regression, which means some of the weights will be forced to zero.\n",
    "The data is also normalized so that the magnitude of the features will not influence weather they are chosen to be a part of the model."
   ]
  },
  {
   "cell_type": "code",
   "execution_count": 79,
   "metadata": {},
   "outputs": [
    {
     "name": "stdout",
     "output_type": "stream",
     "text": [
      "   heating load (BTU)  # surface area (m^2)  wall area  (m^2)  \\\n",
      "0           36.570041              0.612569          0.637265   \n",
      "1           35.868318              0.575988          0.682991   \n",
      "2           32.792317              0.623588          0.699325   \n",
      "3           36.794874              0.640592          0.662052   \n",
      "4           36.949919              0.660064          0.728987   \n",
      "\n",
      "   roof area  (m^2)    theta1    theta2    theta3    theta4    theta5  \\\n",
      "0          0.480028  0.448970  0.304654  0.356981  0.927226  0.925911   \n",
      "1          0.498216  0.452449  0.297315  0.397092  0.918082  0.937306   \n",
      "2          0.456713  0.501555  0.295071  0.372718  0.929873  0.941192   \n",
      "3          0.468914  0.487771  0.311215  0.362279  0.933868  0.932186   \n",
      "4          0.510562  0.553412  0.349157  0.434337  0.938314  0.948023   \n",
      "\n",
      "     theta6  \n",
      "0  0.865661  \n",
      "1  0.872468  \n",
      "2  0.856547  \n",
      "3  0.861373  \n",
      "4  0.876949  \n"
     ]
    }
   ],
   "source": [
    "# feature engineering\n",
    "data['theta1'] = data['# surface area (m^2)']*data['wall area  (m^2)']\n",
    "data['theta2'] = data['# surface area (m^2)']*data['roof area  (m^2)']\n",
    "data['theta3'] = data['wall area  (m^2)']*data['roof area  (m^2)']\n",
    "data['theta4'] = np.log(data['# surface area (m^2)'])\n",
    "data['theta5'] = np.log(data['wall area  (m^2)'])\n",
    "data['theta6'] = np.log(data['roof area  (m^2)'])\n",
    "\n",
    "# normalize data\n",
    "data['theta1'] = data['theta1']/np.max(data['theta1'])\n",
    "data['theta2'] = data['theta2']/np.max(data['theta2'])\n",
    "data['theta3'] = data['theta3']/np.max(data['theta3'])\n",
    "data['theta4'] = data['theta4']/np.max(data['theta4'])\n",
    "data['theta5'] = data['theta5']/np.max(data['theta5'])\n",
    "data['theta6'] = data['theta6']/np.max(data['theta6'])\n",
    "data['# surface area (m^2)'] = data['# surface area (m^2)']/np.max(data['# surface area (m^2)'])\n",
    "data['wall area  (m^2)'] = data['wall area  (m^2)']/np.max(data['wall area  (m^2)'])\n",
    "data['roof area  (m^2)'] = data['roof area  (m^2)']/np.max(data['roof area  (m^2)'])\n",
    "\n",
    "#rearrange cols\n",
    "data.insert(0, 'heating load (BTU)', data.pop('heating load (BTU)'))\n",
    "\n",
    "print(data.head())"
   ]
  },
  {
   "cell_type": "markdown",
   "metadata": {},
   "source": [
    "### Finding optimal value of $\\alpha$\n",
    "We want alpha to be large as to minimize the number of features used, but not so large that the testing and training errors start to suffer. As is evident from the following results, for example setting alpha to 10 will yield all weights to be zero, giving us a useless model."
   ]
  },
  {
   "cell_type": "code",
   "execution_count": 80,
   "metadata": {},
   "outputs": [
    {
     "name": "stdout",
     "output_type": "stream",
     "text": [
      "[  66.82693715  183.16118416   62.11210601   -0.98145177    5.07055491\n",
      "  -65.77019527 -407.5326834  -341.78441402 -209.51567224]\n",
      "[  42.27950174  165.50755688   66.35107715    8.38017974    7.308458\n",
      "  -70.05499712 -328.04941333 -285.20181023 -218.98835637]\n",
      "[ -55.83796459   90.0670051    63.71334255   37.93448092   24.23747345\n",
      "  -89.42659829   -0.           -0.         -201.99028969]\n",
      "[ -47.10637878  101.91910094   26.73765884   19.56420282   35.39403537\n",
      "  -84.67698901   -0.           -0.         -113.70773687]\n",
      "[ -3.93026156  94.24668036  -0.           0.           5.7689948\n",
      " -57.91474884  -0.          -0.         -13.7528811 ]\n",
      "[ -0.          89.86082409  -2.48718472   0.          -0.\n",
      " -53.09764182  -0.           0.          -0.        ]\n",
      "[ -0.          36.74537958 -46.08754036   0.          -0.\n",
      "  -0.          -0.           0.          -0.        ]\n",
      "[ -0.           0.         -12.37435377   0.         -12.88176409\n",
      "  -0.          -0.           0.          -0.        ]\n",
      "[-0.  0. -0.  0. -0. -0. -0.  0. -0.]\n",
      "[2.6596012299847236, 2.6573730845991004, 2.6930686250195865, 2.7510945071638377, 3.0232010688928477, 3.0800807380666124, 3.6246963620498978, 7.940700951514659, 11.905077319650635]\n",
      "[2.8319710890464345, 2.824656561323804, 2.8458485323438096, 2.9178389964592077, 3.1823714240394296, 3.2514924295125756, 4.00038889111505, 7.557145058485423, 11.243322051238085]\n"
     ]
    },
    {
     "name": "stderr",
     "output_type": "stream",
     "text": [
      "/Users/tomhagander/opt/anaconda3/lib/python3.8/site-packages/sklearn/linear_model/_coordinate_descent.py:530: ConvergenceWarning: Objective did not converge. You might want to increase the number of iterations. Duality gap: 1681.1148268082059, tolerance: 6.958985519954824\n",
      "  model = cd_fast.enet_coordinate_descent(\n",
      "/Users/tomhagander/opt/anaconda3/lib/python3.8/site-packages/sklearn/linear_model/_coordinate_descent.py:530: ConvergenceWarning: Objective did not converge. You might want to increase the number of iterations. Duality gap: 942.2161096357117, tolerance: 6.958985519954824\n",
      "  model = cd_fast.enet_coordinate_descent(\n",
      "/Users/tomhagander/opt/anaconda3/lib/python3.8/site-packages/sklearn/linear_model/_coordinate_descent.py:530: ConvergenceWarning: Objective did not converge. You might want to increase the number of iterations. Duality gap: 274.9571940386868, tolerance: 6.958985519954824\n",
      "  model = cd_fast.enet_coordinate_descent(\n",
      "/Users/tomhagander/opt/anaconda3/lib/python3.8/site-packages/sklearn/linear_model/_coordinate_descent.py:530: ConvergenceWarning: Objective did not converge. You might want to increase the number of iterations. Duality gap: 178.43198260954796, tolerance: 6.958985519954824\n",
      "  model = cd_fast.enet_coordinate_descent(\n"
     ]
    }
   ],
   "source": [
    "alphas = [0.00001, 0.0001, 0.001, 0.002, 0.005, 0.01, 0.1, 1, 10]\n",
    "\n",
    "# splitting data into three sets, where val is used to validate the final chosen value of alpha\n",
    "# when alpha has been chosen we train a Lasso regressor with that alpha with traintest\n",
    "traintest, val = splitData(data, 0.8)\n",
    "train, test = splitData(traintest, 0.8)\n",
    "train_X = train.loc[:, '# surface area (m^2)':'theta6']\n",
    "train_Y = train.loc[:, ['heating load (BTU)']]\n",
    "test_X = test.loc[:, '# surface area (m^2)':'theta6']\n",
    "test_Y = test.loc[:, ['heating load (BTU)']]\n",
    "val_X = val.loc[:, '# surface area (m^2)':'theta6']\n",
    "val_Y = val.loc[:, ['heating load (BTU)']]\n",
    "traintest_X = traintest.loc[:, '# surface area (m^2)':'theta6']\n",
    "traintest_Y = traintest.loc[:, ['heating load (BTU)']]\n",
    "\n",
    "training_errors = []\n",
    "testing_errors = []\n",
    "for alpha in alphas:\n",
    "    linreg = Lasso(alpha=alpha)\n",
    "\n",
    "    linreg.fit(train_X, train_Y)\n",
    "    print(linreg.coef_)\n",
    "    pred_train = linreg.predict(train_X)\n",
    "    pred_test = linreg.predict(test_X)\n",
    "\n",
    "    training_errors.append(mean_squared_error(train_Y, pred_train, squared=False))\n",
    "    testing_errors.append(mean_squared_error(test_Y, pred_test, squared=False))\n",
    "\n",
    "print(training_errors)\n",
    "print(testing_errors)\n"
   ]
  },
  {
   "cell_type": "markdown",
   "metadata": {},
   "source": [
    "### Plotting errors\n",
    "From here it is evident that setting alpha to 0.001 is a good choice"
   ]
  },
  {
   "cell_type": "code",
   "execution_count": 81,
   "metadata": {},
   "outputs": [
    {
     "data": {
      "text/plain": [
       "<matplotlib.legend.Legend at 0x7f7ed8bb9bb0>"
      ]
     },
     "execution_count": 81,
     "metadata": {},
     "output_type": "execute_result"
    },
    {
     "data": {
      "image/png": "[encoded data removed]",
      "text/plain": [
       "<Figure size 432x288 with 1 Axes>"
      ]
     },
     "metadata": {
      "needs_background": "light"
     },
     "output_type": "display_data"
    }
   ],
   "source": [
    "plt.plot(alphas, training_errors, label='train')\n",
    "plt.plot(alphas, testing_errors, label='test')\n",
    "plt.xscale('log')\n",
    "plt.legend()"
   ]
  },
  {
   "cell_type": "markdown",
   "metadata": {},
   "source": [
    "### Finding RMSE of best alpha"
   ]
  },
  {
   "cell_type": "code",
   "execution_count": 83,
   "metadata": {},
   "outputs": [
    {
     "name": "stdout",
     "output_type": "stream",
     "text": [
      "2.6845086210293907\n"
     ]
    },
    {
     "name": "stderr",
     "output_type": "stream",
     "text": [
      "/Users/tomhagander/opt/anaconda3/lib/python3.8/site-packages/sklearn/linear_model/_coordinate_descent.py:530: ConvergenceWarning: Objective did not converge. You might want to increase the number of iterations. Duality gap: 283.5856869491686, tolerance: 8.51381899969923\n",
      "  model = cd_fast.enet_coordinate_descent(\n"
     ]
    }
   ],
   "source": [
    "# best alpha at alpha = 0.001\n",
    "linreg = Lasso(alpha = 0.001)\n",
    "linreg.fit(traintest_X, traintest_Y)\n",
    "pred = linreg.predict(val_X)\n",
    "print(mean_squared_error(val_Y, pred, squared=False))"
   ]
  },
  {
   "cell_type": "markdown",
   "metadata": {},
   "source": [
    "The regression with the engineered features is better than without engineering, as the resulting validation RMSE is 2.6856 which is lower than the RMSE of the simple linear regression."
   ]
  }
 ],
 "metadata": {
  "interpreter": {
   "hash": "31f2aee4e71d21fbe5cf8b01ff0e069b9275f58929596ceb00d14d90e3e16cd6"
  },
  "kernelspec": {
   "display_name": "Python 3.8.9 64-bit",
   "language": "python",
   "name": "python3"
  },
  "language_info": {
   "codemirror_mode": {
    "name": "ipython",
    "version": 3
   },
   "file_extension": ".py",
   "mimetype": "text/x-python",
   "name": "python",
   "nbconvert_exporter": "python",
   "pygments_lexer": "ipython3",
   "version": "3.8.8"
  },
  "orig_nbformat": 4
 },
 "nbformat": 4,
 "nbformat_minor": 2
}
